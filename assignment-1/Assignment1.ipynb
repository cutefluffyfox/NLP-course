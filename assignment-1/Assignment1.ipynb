{
 "cells": [
  {
   "cell_type": "markdown",
   "metadata": {
    "id": "RKboZnAdgrRM"
   },
   "source": [
    "# [NLP] Assignment 1: Tokenization\n",
    "\n",
    "In this assignment, you need to tokenize the text of the Twitter(X) users posts(tweets). The assignment consists of two tasks. When you finish all the tasks, create a GitHub repository for this assignment (you can use this repo later for the other assignments) and submit this notebook in the repository. Leave `requirements.txt` file if your code requires additional installations. Submit the link to the repository in Moodle.\n",
    "\n",
    "The [data](https://drive.google.com/file/d/15x_wPAflvYQ2Xh38iNQGrqUIWLj5l5Nw/view?usp=share_link) contains 5 files whereby each contains 44 tweets. Each tweet is separated by a newline."
   ]
  },
  {
   "cell_type": "markdown",
   "metadata": {
    "id": "aLDjjAvemUP_"
   },
   "source": [
    "## Task 1. Tokenize some tweets manually (20 points)\n",
    "\n",
    "As a first task you need to tokenize first 15 tweets from `file2` by hand. This will allow you to understand the problem from a linguistic point of view. The guidelines for tweet tokenization are as follows:\n",
    "\n",
    "- Each smiley is a separate token\n",
    "- Each hashtag is an individual token. Each user reference is an individual token\n",
    "- If a word has spaces between them then it is converted to a single token\n",
    "- All punctuations are individual tokens. This includes double-quotes and single quotes also\n",
    "- A URL is a single token\n",
    "\n",
    "Example of output\n",
    "\n",
    "    Input tweet\n",
    "    @xfranman Old age has made N A T O!\n",
    "\n",
    "    Tokenized tweet (separated by comma)\n",
    "    @xfranman , Old , age , has , made , NATO , !"
   ]
  },
  {
   "cell_type": "markdown",
   "metadata": {
    "id": "7KKKwTidnzUw"
   },
   "source": [
    "### Tokenization by hand (with '|' separator)\n",
    "\n",
    "Tweet #1\n",
    "> Camping in Maine for the weekend. Hey Dad, Mama Loves YOU: http://www.mamapalooza.com \\\n",
    "> \\\n",
    "> Camping | in | Maine | for | the | weekend | . | Hey | Dad | , | Mama | Loves | YOU | : | http://www.mamapalooza.com\n",
    "\n",
    "Tweet #2\n",
    "> Its american tradition bitch \\\n",
    "> \\\n",
    "> Its | american | tradition | bitch\n",
    "\n",
    "Tweet #3\n",
    "> @ThroughTheVoid They love it! The only pleasure they get in life. I actually do that. I'm sure I hear a tiny squeak... Then louder ones \\\n",
    "> \\\n",
    "> @ThroughTheVoid | They | love | it | ! | The | only | pleasure | they | get | in | life | . | I | actually | do | that | . | I | ' | m | sure | I | hear | a | tiny | squeak | . | . | . | Then | louder | ones\n",
    "\n",
    "Tweet #4\n",
    "> \" RT @latti: @AbsoHilare stop tweeting in church! Lol <--- \"\"I tweet because I'm happy, I tweet because I'm free\"\" LOL!\" \\\n",
    "> \\\n",
    "> \" | RT | @latti | : | @AbsoHilare | stop | tweeting | in | church | ! | Lol | <--- | \" | \" | I | tweet | because | I | ' | m | happy | , | I | tweet | because | I | ' | m | free | \" | \" | LOL | ! | \"\n",
    "\n",
    "Tweet #5\n",
    "> Samsung Mini S2 portable HDD graced with colors that perfectly match your tacky beach gear: Sammy's done it aga.. http://tinyurl.com/lb5p6m \\\n",
    "> \\\n",
    "> Samsung | Mini | S2 | portable | HDD | graced | with | colors | that | perfectly | match | your | tacky | beach | gear | : | Sammy | ' | s | done | it | aga | . | . | http://tinyurl.com/lb5p6m\n",
    "\n",
    "Tweet #6\n",
    "> @dialloc congrats on finding your way over. it may be slow going at first. hang in there. it's kinda cool when u get up to speed. \\\n",
    "> \\\n",
    "> @dialloc | congrats | on | finding | your | way | over | . | it | may | be | slow | going | at | first | . | hang | in | there | . | it | ' | s | kinda | cool | when | u | get | up | to | speed | .\n",
    "\n",
    "Tweet #7\n",
    "> iPhone activation delays continue, Apple offers \\$30 http://twt.gs/l3Ki \\\n",
    "> \\\n",
    "> iPhone | activation | delays | continue | , | Apple | offers | \\$ | 30 | http://twt.gs/l3Ki\n",
    "\n",
    "Tweet #8\n",
    "> RT @GoogleAtWork Gmail maximum attachment size now 25MB http://bit.ly/62mjw Nice!!! \\\n",
    "> \\\n",
    "> RT | @GoogleAtWork | Gmail | maximum | attachment | size | now | 25 | MB | http://bit.ly/62mjw | Nice | ! | ! | !\n",
    "\n",
    "Tweet #9\n",
    "> RT @acfou The Ads Won Awards for Crispin; But Did Nothing for Client BurgerKing's Sales/Marketshare - Big Surprise - http://ping.fm/vw8TI \\\n",
    "> \\\n",
    "> RT | @acfou | The | Ads | Won | Awards | for | Crispin | ; | But | Did | Nothing | for | Client | BurgerKing | ' | s | Sales | / | Marketshare | - | Big | Surprise | - | http://ping.fm/vw8TI\n",
    "\n",
    "Tweet #10\n",
    "> Hey doll! Great I missed True Blood yday boo lol Rt @FrankBanuat78 @jhillstephens Hello Sunshine how are u today? :-) \\\n",
    "> \\\n",
    "> Hey | doll | ! | Great | I | missed | True | Blood | yday | boo | lol | Rt | @FrankBanuat78 | @jhillstephens | Hello | Sunshine | how | are | u | today | ? | :-)\n",
    "\n",
    "Tweet #11\n",
    "> Australian artist Pogo made these free songs primarily from sampled audio from Alice In Wonderland. http://www.last.fm/music/Pogo/Wonderland \\\n",
    "> \\\n",
    "> Australian | artist | Pogo | made | these | free | songs | primarily | from | sampled | audio | from | Alice | In | Wonderland | . | http://www.last.fm/music/Pogo/Wonderland\n",
    "\n",
    "Tweet #12\n",
    "> @mppritchard they wanted to sell all the preorders & then sell all of the ones they had in stock to those that just walked in. Can't do both \\\n",
    "> \\\n",
    "> @mppritchard | they | wanted | to | sell | all | the | preorders | & | then | sell | all | of | the | ones | they | had | in | stock | to | those | that | just | walked | in | . | Can | ' | t | do | both\n",
    "\n",
    "Tweet #13\n",
    "> Incoming: Frightened Rabbit, Sept. 22 (Tucson): If Fat Cat Records is going to send three great bands from Scot.. http://tinyurl.com/nz6xcv \\\n",
    "> \\\n",
    "> Incoming | : | Frightened | Rabbit | , | Sept | . | 22 | ( | Tucson | ) | : | If | Fat | Cat | Records | is | going | to | send | three | great | bands | from | Scot | . | . | http://tinyurl.com/nz6xcv\n",
    "\n",
    "Tweet #14\n",
    "> Hey @ginoandfran please greet philip! (GinoandFran live > http://ustre.am/2YyQ) \\\n",
    "> \\\n",
    "> Hey | @ginoandfran | please | greet | philip | ! | ( | GinoandFran | live | > | http://ustre.am/2YyQ | )\n",
    "\n",
    "Tweet #15\n",
    "> Ik weet niet wie er achter de T-Mobile iPhone Twitter zit maar ik vind het niet echt 'corporate' taalgebruik... Best vreemd eigenlijk \\\n",
    "> \\\n",
    "> Ik | weet | niet | wie | er | achter | de | T | - | Mobile | iPhone | Twitter | zit | maar | ik | vind | het | niet | echt | ' | corporate | ' | taalgebruik | . | . | . | Best | vreemd | eigenlijk\n"
   ]
  },
  {
   "cell_type": "markdown",
   "metadata": {
    "id": "-2J2AD2nmUhi"
   },
   "source": [
    "## Task 2. Implement [Byte-Pair Encoding(BPE)](https://arxiv.org/pdf/1508.07909.pdf) Tokenizer (80 points)\n",
    "\n",
    "### Task 2.1. Implementation (60 points)\n",
    "\n",
    "Implement the tokenizer as the BPETokenizer class:\n",
    "* Implement `train` method that learns merges and builds the vocabulary of the specified `vocab_size` (25 points).\n",
    "* Implement `tokenize` method that should tokenize the text according to the learnt merges (25 points).\n",
    "\n",
    "Your code should have docstrings and comments (10 points)."
   ]
  },
  {
   "cell_type": "code",
   "execution_count": 1,
   "metadata": {},
   "outputs": [],
   "source": [
    "from collections import defaultdict, Counter\n",
    "from itertools import pairwise, chain\n",
    "\n",
    "\n",
    "class BPETokenizer:\n",
    "    \"\"\"\n",
    "    Byte-Pair Encoding tokenizer based on Rico Sennrich et al. paper [1],\n",
    "    with simplified pretokenizer of XLNetTokenizer architecture.\n",
    "\n",
    "    [1] - https://arxiv.org/pdf/1508.07909.pdf\n",
    "    \"\"\"\n",
    "\n",
    "    def __init__(self, vocab_size: int, use_pretokenization: bool = True):\n",
    "        \"\"\"\n",
    "        Initialize tokenizer by vocab size\n",
    "\n",
    "        :param vocab_size:  number of tokens to generate (should be at least number of unique symbols)\n",
    "        :param use_pretokenization:  bool parameter that identify whether to use tokenization for efficiency.\n",
    "        \"\"\"\n",
    "\n",
    "        self.use_pretokenization = use_pretokenization\n",
    "        self.vocab_size: int = vocab_size\n",
    "        self.merges: list[tuple[tuple[str, str], str]] = list()  # e.g. [( ('a', 'b'), 'ab' )]\n",
    "        self.vocab: list[str] = list()                           # e.g. [              'ab'  ]\n",
    "\n",
    "    @staticmethod\n",
    "    def __get_most_common_pair(corpus: Counter[tuple[str], int]) -> tuple[str, str]:\n",
    "        \"\"\"\n",
    "        Hidden method that return most frequent paired tokens from corpus\n",
    "\n",
    "        :param corpus:  current preprocessed corpus we are working with {sentence: frequency}\n",
    "        :return:        pair (tuple[str]) of most frequent paired tokens combination\n",
    "        \"\"\"\n",
    "\n",
    "        # define counter & most frequent variables\n",
    "        stats = defaultdict(int)\n",
    "        most_common = (('', ''), -1)\n",
    "\n",
    "        # for each sentence pair all consecutive tokens & update `stats` counter\n",
    "        for tokens, freq in corpus.items():\n",
    "            for pair in pairwise(tokens):\n",
    "                stats[pair] += freq\n",
    "\n",
    "                # if new most frequent found, update answer\n",
    "                if stats[pair] > most_common[1]:\n",
    "                    most_common = (pair, stats[pair])\n",
    "\n",
    "        # return most frequent token combination\n",
    "        return most_common[0]\n",
    "\n",
    "    @staticmethod\n",
    "    def __update_sentence_with_new_token(sentence: tuple[str] or list[str], new_token: tuple[str, str]) -> list[str]:\n",
    "        \"\"\"\n",
    "        Hidden method that updates one sentence with new rule given by `new_token`\n",
    "\n",
    "        :param sentence:   list/tuple of strings that represent original sentence\n",
    "        :param new_token:  pair (tuple[str]) representing new merge rule\n",
    "        :return:           same sentence with updated tokens\n",
    "        \"\"\"\n",
    "\n",
    "        new_token_str = ''.join(new_token)\n",
    "        new_sentence = [sentence[0]]  # new sentence after applying merge rule\n",
    "        skip = False  # whether to skip next merge or not (e.x. !!!! -> !! SKIP !!)\n",
    "\n",
    "        for ind, pair in enumerate(pairwise(sentence)):\n",
    "            if not skip and pair == new_token:  # if we are not allowed to skip & we merge rule satisfied\n",
    "                new_sentence.pop()\n",
    "                new_sentence.append(new_token_str)\n",
    "\n",
    "                # set to True to skip next merge\n",
    "                # this is important when we combine tokens with same elements (e.x. (!, !) -> !!)\n",
    "                # and they appear several times (e.x. \"!!!!\"). Without this addition, whole sequence of\n",
    "                # tokens will be replaced by the last occurrence (!!!! -> !!), deleting information from text\n",
    "                skip = True\n",
    "            else:  # otherwise add one token as usual\n",
    "                new_sentence.append(pair[1])\n",
    "                skip = False\n",
    "\n",
    "        # return updated sentence\n",
    "        return new_sentence\n",
    "\n",
    "    @staticmethod\n",
    "    def __update_keys_with_new_token(corpus: Counter[tuple[str], int], new_token: tuple[str, str]) -> Counter[tuple[str], int]:\n",
    "        \"\"\"\n",
    "        Hidden method that updates corpus with new rule given by `new_token`\n",
    "\n",
    "        :param corpus:     current preprocessed corpus we are working with {sentence: frequency}\n",
    "        :param new_token:  pair (tuple[str]) representing new merge rule\n",
    "        :return:           same corpus with updated keys\n",
    "        \"\"\"\n",
    "\n",
    "        # define new corpus\n",
    "        updated = Counter()\n",
    "\n",
    "        # for each token pair apply new merge rule\n",
    "        for tokens, freq in corpus.items():\n",
    "            new_keys = BPETokenizer.__update_sentence_with_new_token(tokens, new_token)\n",
    "            updated[tuple(new_keys)] = freq\n",
    "\n",
    "        # return updated corpus\n",
    "        return updated\n",
    "\n",
    "    @staticmethod\n",
    "    def pretokenize(corpus: list[str]) -> list[list[str]]:\n",
    "        \"\"\"\n",
    "        Make initial \"simple\" tokenization to not consider pairs that\n",
    "        cross word boundaries. In [1] `help(BPETokenizer)` this\n",
    "        was mentioned as efficiency technique.\n",
    "\n",
    "        This pre-tokenizer is inspired by `XLNetTokenizer's`, and splits 'words' by space symbols\n",
    "        and then adds original space to the beginning of words as '▁'\n",
    "\n",
    "        :param corpus:  raw corpus we are working with List[sentence]\n",
    "        :return:        same corpus, where now each sentence is list of 'words' with slight modifications\n",
    "        \"\"\"\n",
    "\n",
    "        # updated corpus\n",
    "        updated_corpus = []\n",
    "\n",
    "        # for each sentence, split by whitespace & add it as '▁' to the beginning of words\n",
    "        for sample in corpus:\n",
    "            sample = ' '.join(sample.split())\n",
    "\n",
    "            # delete duplicates as they serve little-to-no purpose\n",
    "            while '  ' in sample:\n",
    "                sample = sample.replace('  ', ' ')\n",
    "\n",
    "            # add '▁' to each 'word'\n",
    "            updated_corpus.append(list(map(lambda tok: '▁' + tok, sample.split())))\n",
    "\n",
    "        return updated_corpus\n",
    "\n",
    "    def train(self, corpus: list[str]) -> None:\n",
    "        \"\"\"\n",
    "        Train BPE tokenizer by given corpus & initial parameters\n",
    "\n",
    "        :param corpus:  raw corpus we are working with List[sentence]\n",
    "        \"\"\"\n",
    "\n",
    "        # reset all previous calculations\n",
    "        self.__init__(self.vocab_size, self.use_pretokenization)\n",
    "\n",
    "        # pre-tokenize or skip this step\n",
    "        pretokenized: list[list[str]] = self.pretokenize(corpus) if self.use_pretokenization else [[s] for s in corpus]\n",
    "\n",
    "        # get all unique symbols & make basic vocab\n",
    "        all_symbols = set(''.join([''.join(text) for text in pretokenized]))\n",
    "        self.vocab.extend(list(all_symbols))\n",
    "\n",
    "        if self.vocab_size < len(self.vocab):\n",
    "            raise ValueError('self.vocab_size should be more of equal to #_of_unique_symbols in corpus')\n",
    "\n",
    "        # make frequency dict to boost computation\n",
    "        new_corpus: Counter[tuple[str], int] = Counter([tuple(word) for text in pretokenized for word in text])\n",
    "\n",
    "        # update vocab till self.vocab_size is achieved\n",
    "        for i in range(self.vocab_size - len(self.vocab)):\n",
    "            # get most frequent pair\n",
    "            best = self.__get_most_common_pair(new_corpus)\n",
    "\n",
    "            # add to merge rules & vocab\n",
    "            self.merges.append((best, ''.join(best)))\n",
    "            self.vocab.append(''.join(best))\n",
    "\n",
    "            # update corpus keys with new merge rule\n",
    "            new_corpus = self.__update_keys_with_new_token(new_corpus, best)\n",
    "\n",
    "    def tokenize(self, text: str) -> list[str]:\n",
    "        \"\"\"\n",
    "        Tokenize given text (sentence) with learned marge rules\n",
    "\n",
    "        :param text:  raw sentene to tokenize\n",
    "        :return:      tokenized sentence\n",
    "        \"\"\"\n",
    "\n",
    "        if len(self.vocab) == 0:\n",
    "            raise RuntimeError('Canno\\'t tokenize text due to empty vocab, please train tokenizer first')\n",
    "\n",
    "        # pretokenize & split by each symbol\n",
    "        pretokenized = self.pretokenize([text]) if self.use_pretokenization else [[text]]\n",
    "        tokens = [tuple(word) for sentence in pretokenized for word in sentence]\n",
    "\n",
    "        # for each token apply all known merge rules\n",
    "        for t_ind, tokenized in enumerate(tokens):\n",
    "            for merge_rule, merge_str in self.merges:\n",
    "                # update sentence with new merge_rule\n",
    "                tokenized = self.__update_sentence_with_new_token(tokenized, merge_rule)\n",
    "            # save updated sentence\n",
    "            tokens[t_ind] = tokenized\n",
    "        return list(chain(*tokens))  # flatten from original pretokenization"
   ]
  },
  {
   "cell_type": "markdown",
   "metadata": {},
   "source": [
    "### Task 2.2. Analysis on Tweets Dataset (10 points)\n",
    "\n",
    "Train the BPE tokenizer on the tweets dataset. Try to tokenize the tweets with the tokenizer of different `vocab_size`. For example, train the BPE tokenizer with `vocab_size` of [base_vocab_size, 250, 500, 750, 1000]. Plot the dependency of the average length of the tokenized tweet by `vocab_size` to analyze how `vocab_size` affects the length of the tokenized tweet on average. Tell what `vocab_size` is preferrable and why."
   ]
  },
  {
   "cell_type": "code",
   "execution_count": 2,
   "metadata": {},
   "outputs": [],
   "source": [
    "import matplotlib.pyplot as plt\n",
    "\n",
    "\n",
    "\n",
    "def get_average_n_of_tokens(corpus: list[str], bpe: BPETokenizer) -> float:\n",
    "    \"\"\"\n",
    "    Calculates average number of tokens for given corpus & trained model\n",
    "    \n",
    "    :param corpus:  raw corpus List[sentence] \n",
    "    :param bpe:     pretrained model\n",
    "    :return:        average number of tokens given bpe provides on given corpus\n",
    "    \"\"\"\n",
    "    \n",
    "    sum_tokenized = n_tokenized = 0\n",
    "    for sentence in corpus:\n",
    "        n_tokenized += 1\n",
    "        sum_tokenized += len(bpe.tokenize(sentence))\n",
    "    return sum_tokenized / n_tokenized"
   ]
  },
  {
   "cell_type": "code",
   "execution_count": 3,
   "metadata": {},
   "outputs": [],
   "source": [
    "# combine all files into 1 big corpus\n",
    "corpus = []\n",
    "for data_file in ['file1', 'file2', 'file3', 'file4', 'file5']:\n",
    "    with open(f'data/{data_file}', 'r') as file:\n",
    "        corpus.extend([line[:-1] for line in file.readlines()])    "
   ]
  },
  {
   "cell_type": "code",
   "execution_count": 4,
   "metadata": {},
   "outputs": [
    {
     "name": "stderr",
     "output_type": "stream",
     "text": [
      "100%|█████████████████████████████████████████████| 5/5 [00:08<00:00,  1.73s/it]\n"
     ]
    },
    {
     "data": {
      "text/plain": [
       "{167: <__main__.BPETokenizer at 0x7f82dcdf1240>,\n",
       " 250: <__main__.BPETokenizer at 0x7f82dcdf1540>,\n",
       " 500: <__main__.BPETokenizer at 0x7f82dcdf18d0>,\n",
       " 750: <__main__.BPETokenizer at 0x7f82dcdf2ec0>,\n",
       " 1000: <__main__.BPETokenizer at 0x7f82dcdf2fe0>}"
      ]
     },
     "execution_count": 4,
     "metadata": {},
     "output_type": "execute_result"
    }
   ],
   "source": [
    "from tqdm import tqdm\n",
    "\n",
    "trained = dict()\n",
    "\n",
    "# train all tokenizes & save them\n",
    "vocab_sizes = [len(set(''.join(corpus))), 250, 500, 750, 1000]\n",
    "for vocab_size in tqdm(vocab_sizes):\n",
    "    bpe = BPETokenizer(vocab_size=vocab_size)\n",
    "    bpe.train(corpus)\n",
    "    trained[vocab_size] = bpe\n",
    "\n",
    "trained"
   ]
  },
  {
   "cell_type": "code",
   "execution_count": 5,
   "metadata": {},
   "outputs": [
    {
     "data": {
      "image/png": "[encoded data removed]",
      "text/plain": [
       "<Figure size 640x480 with 1 Axes>"
      ]
     },
     "metadata": {},
     "output_type": "display_data"
    }
   ],
   "source": [
    "import matplotlib.pyplot as plt\n",
    "\n",
    "# calculate average values\n",
    "xs = sorted(list(trained.keys()))\n",
    "ys = [get_average_n_of_tokens(corpus, trained[n_tokens]) for n_tokens in xs]\n",
    "\n",
    "# plot dependency\n",
    "fig = plt.figure()\n",
    "plt.plot(xs, ys)\n",
    "fig.suptitle('English corpus', fontsize=16)\n",
    "plt.xlabel('Number of tokens')\n",
    "plt.ylabel('Avg. tweet size')\n",
    "plt.show()"
   ]
  },
  {
   "cell_type": "code",
   "execution_count": 6,
   "metadata": {},
   "outputs": [
    {
     "name": "stdout",
     "output_type": "stream",
     "text": [
      "167\t :\t['в', '-', 'i', 'b', 'h']\n",
      "250\t :\t['ot', 'ch', 'ad', 'ur', '▁for']\n",
      "500\t :\t['rue', 'ans', 'ead', 'king', '▁tim']\n",
      "750\t :\t['▁@W', '20', '▁feel', '▁want', 'way']\n",
      "1000\t :\t['▁please', '▁pu', '▁putting', '▁20%', '▁those']\n"
     ]
    }
   ],
   "source": [
    "def calculate_occurence_in_corpus(substr: str, corpus: list[str]) -> int:\n",
    "    return sum([sentence.count(substr) for sentence in corpus])\n",
    "\n",
    "# let's see what last merges did BPE learned\n",
    "for vocab_size in xs:\n",
    "    print(vocab_size, ' :', trained[vocab_size].vocab[-5:], sep='\\t')"
   ]
  },
  {
   "cell_type": "code",
   "execution_count": 7,
   "metadata": {},
   "outputs": [
    {
     "name": "stdout",
     "output_type": "stream",
     "text": [
      "250 : 41\n",
      "500 : 13\n",
      "750 : 4\n",
      "1000 : 2\n"
     ]
    }
   ],
   "source": [
    "# and watch some frequencies\n",
    "print(250, ':', calculate_occurence_in_corpus('for', corpus))\n",
    "print(500, ':', calculate_occurence_in_corpus('tim', corpus))\n",
    "print(750, ':', calculate_occurence_in_corpus('want', corpus))\n",
    "print(1000, ':', calculate_occurence_in_corpus('those', corpus))"
   ]
  },
  {
   "cell_type": "markdown",
   "metadata": {},
   "source": [
    "As can see from some basic statistics above, tokenizers with 750 and 1000 tokens seems to be overfitted as their last additions to the vocab was not frequent given the current dataset (2 and 4 occurence on 220 tweets). On the other hand tokenizer 250 is underfitted (as well as 167 one), for that reason out of all examples I would preffer tokenizer with 500 tokens as it seems to provide more 'balanced' tokenization, compared to others. "
   ]
  },
  {
   "cell_type": "markdown",
   "metadata": {},
   "source": [
    "### Task 2.3. Analysis on Dataset of Different Language (10 points)\n",
    "\n",
    "Find a small dataset of texts in a language other than English. The dataset size should be not greater than several megabytes.\n",
    "\n",
    "Train the BPE tokenizer on the dataset that you found. Try to tokenize the sentences from this dataset with the tokenizer of different `vocab_size`. Plot the dependency of the average length of the tokenized sentence by `vocab_size` to analyze how `vocab_size` affects the length of the tokenized sentence on average.\n",
    "\n",
    "Tell how how the average length of the tokenized sentence differs from the average length of the tokenized tweet. Explain why. "
   ]
  },
  {
   "cell_type": "markdown",
   "metadata": {},
   "source": [
    "### Dataset\n",
    "I decided to use german tweets dataset for sentiment analysis\n",
    "\n",
    "Link to download [15MB]: \n",
    "https://github.com/charlesmalafosse/open-dataset-for-sentiment-analysis/blob/master/betsentiment-DE-tweets-sentiment-players.zip\n"
   ]
  },
  {
   "cell_type": "code",
   "execution_count": 8,
   "metadata": {},
   "outputs": [
    {
     "data": {
      "text/plain": [
       "['@TheWrathOfX1 @tradeomat @OezcanMutlu @MesutOzil1088 Hat jeder gesehen. Auch alle Fussballexperten sehen das so. Nur Bayernblindfischfans nicht. Gehen Sie Uli Hoenesswürstchen essen. Die machen wirr im Kopf',\n",
       " '@LordHenRie @IlkayGuendogan @DFB_Team @MatzeGinter @woodyinho Gehe mal selber auf dem platz und zeige deine fähigkeiten wenn es so leicht ist wie du hier schreibst.',\n",
       " 'Ey @MesutOzil1088 ... wir Fans des @werderbremen oder auch sicher die Fans des @s04 würden dich weiterhin mit Kusshand nehmen, weil wir weiterhin den guten Fußballer und Menschen sehen.',\n",
       " '@matshummels Gesundheit geht vor, jetzt heißt es die Mannschaft von der Bank zu unterstützen. Viel Erfolg',\n",
       " 'Ich habe absolut kein Verständnis für die Nichtnominierung von @LeroySane19. Warum kommt ein Ersatzspieler #Rudy mit? #WMKader @DFB_Team @s04 @ManCity']"
      ]
     },
     "execution_count": 8,
     "metadata": {},
     "output_type": "execute_result"
    }
   ],
   "source": [
    "import pandas as pd\n",
    "\n",
    "# encode as latin as 'ß' symbol is not supported in UTF-8\n",
    "german_tweets = pd.read_csv('data/betsentiment-DE-tweets-sentiment-players.csv', encoding='latin-1')\n",
    "corpus = list(german_tweets['tweet_text'])[:220]  # english corpus consists of 220 samples\n",
    "\n",
    "corpus[:5]"
   ]
  },
  {
   "cell_type": "code",
   "execution_count": 9,
   "metadata": {},
   "outputs": [
    {
     "name": "stderr",
     "output_type": "stream",
     "text": [
      "100%|█████████████████████████████████████████████| 5/5 [00:13<00:00,  2.69s/it]\n"
     ]
    },
    {
     "data": {
      "text/plain": [
       "{97: <__main__.BPETokenizer at 0x7f82cb69b940>,\n",
       " 250: <__main__.BPETokenizer at 0x7f82dc291090>,\n",
       " 500: <__main__.BPETokenizer at 0x7f82cb69ae30>,\n",
       " 750: <__main__.BPETokenizer at 0x7f82cac50f70>,\n",
       " 1000: <__main__.BPETokenizer at 0x7f82cac52650>}"
      ]
     },
     "execution_count": 9,
     "metadata": {},
     "output_type": "execute_result"
    }
   ],
   "source": [
    "german_trained = dict()\n",
    "\n",
    "# train all tokenizes & save them\n",
    "vocab_sizes = [len(set(''.join(corpus))), 250, 500, 750, 1000]\n",
    "for vocab_size in tqdm(vocab_sizes):\n",
    "    bpe = BPETokenizer(vocab_size=vocab_size)\n",
    "    bpe.train(corpus)\n",
    "    german_trained[vocab_size] = bpe\n",
    "\n",
    "german_trained"
   ]
  },
  {
   "cell_type": "code",
   "execution_count": 10,
   "metadata": {},
   "outputs": [
    {
     "data": {
      "image/png": "[encoded data removed]",
      "text/plain": [
       "<Figure size 640x480 with 1 Axes>"
      ]
     },
     "metadata": {},
     "output_type": "display_data"
    }
   ],
   "source": [
    "import matplotlib.pyplot as plt\n",
    "\n",
    "# calculate average values\n",
    "xs = sorted(list(german_trained.keys()))\n",
    "ys = [get_average_n_of_tokens(corpus, german_trained[n_tokens]) for n_tokens in xs]\n",
    "\n",
    "# plot dependency\n",
    "fig = plt.figure()\n",
    "plt.plot(xs, ys)\n",
    "fig.suptitle('German corpus', fontsize=16)\n",
    "plt.xlabel('Number of tokens')\n",
    "plt.ylabel('Avg. tweet size')\n",
    "plt.show()"
   ]
  },
  {
   "cell_type": "markdown",
   "metadata": {},
   "source": [
    "As well as in English corpus, we see that with increased number of tokens, average length decrease. However German dataset shows more sudden drop between 500 and 750 than the english one. In addition, german tweets were originally longer on average, and they have maintained this trend on all vocabular threasholds. "
   ]
  },
  {
   "cell_type": "markdown",
   "metadata": {},
   "source": [
    "Now let's discuss why average length of tweet decreases as we increase number of tokens. To understand the idea, first let us consider the basic example of 1 sentence `s` and 1 merge rule `r`. In this scenario:\n",
    "* If `r` can be applied to `s`, then sentence size of `s` will decrease by at least 1.\n",
    "* Otherwise, sentence size will remain the same.\n",
    "\n",
    "With that in mind, we can apply the same logic for several sentences and several rules, and see the same pattern. Now, why it always works. As we always select the merge rule `r` from already existing combinations in corpus, it guarantees us that on each iteration average length will be smaller (or at least the same if no combinations left) compared to previous step.\n"
   ]
  },
  {
   "cell_type": "markdown",
   "metadata": {},
   "source": [
    "### Credits\n",
    "> Work done by Polina Zelenskaya D21-01\\\n",
    "> Telegram: @cutefluffyfox\\\n",
    "> Email: p.zelenskaya@innopolis.university"
   ]
  }
 ],
 "metadata": {
  "colab": {
   "provenance": [],
   "toc_visible": true
  },
  "kernelspec": {
   "display_name": "Python 3 (ipykernel)",
   "language": "python",
   "name": "python3"
  },
  "language_info": {
   "codemirror_mode": {
    "name": "ipython",
    "version": 3
   },
   "file_extension": ".py",
   "mimetype": "text/x-python",
   "name": "python",
   "nbconvert_exporter": "python",
   "pygments_lexer": "ipython3",
   "version": "3.10.12"
  }
 },
 "nbformat": 4,
 "nbformat_minor": 1
}
